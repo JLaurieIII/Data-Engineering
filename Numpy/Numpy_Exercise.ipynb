{
 "cells": [
  {
   "cell_type": "markdown",
   "metadata": {},
   "source": [
    "# Numpy Exercise Solution  <img src = \"numpy1.png\">\n",
    "###### Authored by James Laurie"
   ]
  },
  {
   "cell_type": "markdown",
   "metadata": {},
   "source": [
    "#### 1. Create a numpy array with the number of elements equals your age. The value of array elements is a random number between 10 to your age "
   ]
  },
  {
   "cell_type": "code",
   "execution_count": 44,
   "metadata": {},
   "outputs": [
    {
     "name": "stdout",
     "output_type": "stream",
     "text": [
      "Requirement already satisfied: numpy in c:\\users\\19412\\appdata\\local\\programs\\python\\python310\\lib\\site-packages (1.23.2)\n",
      "Note: you may need to restart the kernel to use updated packages.\n"
     ]
    },
    {
     "data": {
      "text/plain": [
       "array([[27, 20, 28, 20, 10],\n",
       "       [15, 15, 10, 14, 18],\n",
       "       [29, 18, 28, 26, 16],\n",
       "       [10, 19, 15, 31, 15],\n",
       "       [13, 25, 24, 28, 24],\n",
       "       [11, 19, 15, 11, 19]])"
      ]
     },
     "execution_count": 44,
     "metadata": {},
     "output_type": "execute_result"
    }
   ],
   "source": [
    "%pip install numpy\n",
    "import numpy as np\n",
    "np.random.randint(10, 32, size=(6,5))"
   ]
  },
  {
   "cell_type": "markdown",
   "metadata": {},
   "source": [
    "#### 2. Create a numpy array between 1 to 50 with the span(space) of 2 and print the length of the array"
   ]
  },
  {
   "cell_type": "code",
   "execution_count": 3,
   "metadata": {},
   "outputs": [
    {
     "data": {
      "text/plain": [
       "25"
      ]
     },
     "execution_count": 3,
     "metadata": {},
     "output_type": "execute_result"
    }
   ],
   "source": [
    "len(np.arange(1, 50, 2, dtype=int))"
   ]
  },
  {
   "cell_type": "markdown",
   "metadata": {},
   "source": [
    "#### 3. Create an equally spaced numpy array with 27 elements between 4 and 7 "
   ]
  },
  {
   "cell_type": "code",
   "execution_count": 4,
   "metadata": {},
   "outputs": [
    {
     "data": {
      "text/plain": [
       "array([4.        , 4.11538462, 4.23076923, 4.34615385, 4.46153846,\n",
       "       4.57692308, 4.69230769, 4.80769231, 4.92307692, 5.03846154,\n",
       "       5.15384615, 5.26923077, 5.38461538, 5.5       , 5.61538462,\n",
       "       5.73076923, 5.84615385, 5.96153846, 6.07692308, 6.19230769,\n",
       "       6.30769231, 6.42307692, 6.53846154, 6.65384615, 6.76923077,\n",
       "       6.88461538, 7.        ])"
      ]
     },
     "execution_count": 4,
     "metadata": {},
     "output_type": "execute_result"
    }
   ],
   "source": [
    "np.linspace(4, 7, num=27)"
   ]
  },
  {
   "cell_type": "markdown",
   "metadata": {},
   "source": [
    "#### 4. Create a matrix of size (5 x 4) with random numbers and round off the each elements by only 2 fractional points."
   ]
  },
  {
   "cell_type": "code",
   "execution_count": 7,
   "metadata": {},
   "outputs": [
    {
     "data": {
      "text/plain": [
       "array([[0.14104692, 0.91812632, 0.61247577, 0.82664568],\n",
       "       [0.28678042, 0.71729383, 0.57017951, 0.54618601],\n",
       "       [0.80848629, 0.0602572 , 0.40668214, 0.73095478],\n",
       "       [0.23825877, 0.29608962, 0.59344024, 0.15566535],\n",
       "       [0.29637787, 0.24728828, 0.69933322, 0.96189037]])"
      ]
     },
     "execution_count": 7,
     "metadata": {},
     "output_type": "execute_result"
    }
   ],
   "source": [
    "np.random.random((5, 4))"
   ]
  },
  {
   "cell_type": "markdown",
   "metadata": {},
   "source": [
    "#### 5. Create a matrix of size (5x5) with random integers between 5 to 15"
   ]
  },
  {
   "cell_type": "code",
   "execution_count": 6,
   "metadata": {},
   "outputs": [
    {
     "data": {
      "text/plain": [
       "array([[11, 12, 10,  5, 12],\n",
       "       [13, 14,  8,  6,  5],\n",
       "       [12,  5, 12, 12, 13],\n",
       "       [14,  7,  9, 13,  6],\n",
       "       [11, 13,  8,  7, 11]])"
      ]
     },
     "execution_count": 6,
     "metadata": {},
     "output_type": "execute_result"
    }
   ],
   "source": [
    "np.random.randint(5, 15, size=(5, 5))"
   ]
  },
  {
   "cell_type": "markdown",
   "metadata": {},
   "source": [
    "#### 6. Create the one dimensional array of zeros of random length below 20 with the data type int32"
   ]
  },
  {
   "cell_type": "code",
   "execution_count": 60,
   "metadata": {},
   "outputs": [
    {
     "data": {
      "text/plain": [
       "array([0, 0, 0])"
      ]
     },
     "execution_count": 60,
     "metadata": {},
     "output_type": "execute_result"
    }
   ],
   "source": [
    "import random\n",
    "np.zeros(random.randint(1,21), dtype='int32')\n"
   ]
  },
  {
   "cell_type": "markdown",
   "metadata": {},
   "source": [
    "#### 7. Create a two dimensional array of ones of random row and column lengths with the data type of float32 "
   ]
  },
  {
   "cell_type": "code",
   "execution_count": 59,
   "metadata": {},
   "outputs": [
    {
     "data": {
      "text/plain": [
       "array([[1., 1., 1., 1., 1., 1., 1., 1., 1., 1., 1., 1., 1.],\n",
       "       [1., 1., 1., 1., 1., 1., 1., 1., 1., 1., 1., 1., 1.],\n",
       "       [1., 1., 1., 1., 1., 1., 1., 1., 1., 1., 1., 1., 1.],\n",
       "       [1., 1., 1., 1., 1., 1., 1., 1., 1., 1., 1., 1., 1.],\n",
       "       [1., 1., 1., 1., 1., 1., 1., 1., 1., 1., 1., 1., 1.],\n",
       "       [1., 1., 1., 1., 1., 1., 1., 1., 1., 1., 1., 1., 1.],\n",
       "       [1., 1., 1., 1., 1., 1., 1., 1., 1., 1., 1., 1., 1.]],\n",
       "      dtype=float32)"
      ]
     },
     "execution_count": 59,
     "metadata": {},
     "output_type": "execute_result"
    }
   ],
   "source": [
    "np.ones((random.randint(1,21),random.randint(1,21)), dtype='float32')\n"
   ]
  },
  {
   "cell_type": "markdown",
   "metadata": {},
   "source": [
    "#### 8. Create a matrix exactly as same as shown below and print its shape, type and dtype\n",
    "<img src = \"np_mat1.png\">"
   ]
  },
  {
   "cell_type": "code",
   "execution_count": 61,
   "metadata": {},
   "outputs": [
    {
     "name": "stdout",
     "output_type": "stream",
     "text": [
      "[[ 9 25 50 34 45]\n",
      " [ 3 34 34 65  2]\n",
      " [ 5  7  3 76  3]\n",
      " [ 7  8  6 54  6]\n",
      " [23 12  8  5  8]]\n",
      "int32\n",
      "(5, 5)\n",
      "<class 'numpy.ndarray'>\n"
     ]
    }
   ],
   "source": [
    "ar = np.array([[9,25,50,34,45],[3,34,34,65,2],[5,7,3,76,3],[7,8,6,54,6], [23,12,8,5,8]])\n",
    "print(ar)\n",
    "print(ar.dtype)\n",
    "print(ar.shape)\n",
    "print(type(ar))\n"
   ]
  },
  {
   "cell_type": "markdown",
   "metadata": {},
   "source": [
    "#### 9. Access the center pixel of the matrix defined in the question no 8 ( Don't enter the row and column index explicitely)"
   ]
  },
  {
   "cell_type": "code",
   "execution_count": 64,
   "metadata": {},
   "outputs": [
    {
     "name": "stdout",
     "output_type": "stream",
     "text": [
      "3\n"
     ]
    }
   ],
   "source": [
    "center = np.take(ar, ar.size // 2)\n",
    "print(center)\n"
   ]
  },
  {
   "cell_type": "markdown",
   "metadata": {},
   "source": [
    "#### 10. Print the all the elements of 3rd row of the matrix"
   ]
  },
  {
   "cell_type": "code",
   "execution_count": 23,
   "metadata": {},
   "outputs": [
    {
     "name": "stdout",
     "output_type": "stream",
     "text": [
      "[ 5  7  3 76  3]\n"
     ]
    }
   ],
   "source": [
    "third_row = ar[2]\n",
    "print(third_row)\n"
   ]
  },
  {
   "cell_type": "markdown",
   "metadata": {},
   "source": [
    "#### 11. Print the all the elements of 4th columns of the matrix"
   ]
  },
  {
   "cell_type": "code",
   "execution_count": 24,
   "metadata": {},
   "outputs": [
    {
     "name": "stdout",
     "output_type": "stream",
     "text": [
      "[34 65 76 54  5]\n"
     ]
    }
   ],
   "source": [
    "fourth_col = ar[:, 3]\n",
    "print(fourth_col)\n"
   ]
  },
  {
   "cell_type": "markdown",
   "metadata": {},
   "source": [
    "#### 12. Print the 4 corner pixels of the matrix"
   ]
  },
  {
   "cell_type": "code",
   "execution_count": 25,
   "metadata": {},
   "outputs": [
    {
     "name": "stdout",
     "output_type": "stream",
     "text": [
      "[ 9 45 23  8]\n"
     ]
    }
   ],
   "source": [
    "print(ar[[0, 0, -1, -1], [0, -1, 0, -1]])\n"
   ]
  },
  {
   "cell_type": "markdown",
   "metadata": {},
   "source": [
    "#### 13. Create three matrix m1,m2,m3 with the elements grouped in the figure below\n",
    "<img src = \"np_mat2.png\">"
   ]
  },
  {
   "cell_type": "code",
   "execution_count": 49,
   "metadata": {},
   "outputs": [],
   "source": [
    "m1 = ar[3:5,0:2]\n",
    "m2 = ar[0:2,2:4]\n",
    "m3 = ar[2:5,2:5]\n"
   ]
  },
  {
   "cell_type": "markdown",
   "metadata": {},
   "source": [
    "#### 14. Reshape all the three matrix segmented in the above task in to three  1-dimensional vector."
   ]
  },
  {
   "cell_type": "code",
   "execution_count": 50,
   "metadata": {},
   "outputs": [],
   "source": [
    "flat_m1 = m1.flatten(order='C')\n",
    "flat_m2 = m2.flatten(order='C')\n",
    "flat_m3 = m3.flatten(order='C')"
   ]
  },
  {
   "cell_type": "markdown",
   "metadata": {},
   "source": [
    "#### 15. Concatenate the matrix m1 and m2 in both vertical and horizontal direction"
   ]
  },
  {
   "cell_type": "code",
   "execution_count": 54,
   "metadata": {},
   "outputs": [
    {
     "data": {
      "text/plain": [
       "array([ 7,  8, 23, 12, 50, 34, 34, 65])"
      ]
     },
     "execution_count": 54,
     "metadata": {},
     "output_type": "execute_result"
    }
   ],
   "source": [
    "vertical = np.concatenate((m1, m2), axis=0)\n",
    "vertical"
   ]
  },
  {
   "cell_type": "code",
   "execution_count": 66,
   "metadata": {},
   "outputs": [
    {
     "data": {
      "text/plain": [
       "array([[ 7,  8, 50, 34],\n",
       "       [23, 12, 34, 65]])"
      ]
     },
     "execution_count": 66,
     "metadata": {},
     "output_type": "execute_result"
    }
   ],
   "source": [
    "horizontal = np.concatenate((m1, m2), axis=1)\n",
    "horizontal\n"
   ]
  },
  {
   "cell_type": "markdown",
   "metadata": {},
   "source": [
    "#### 16. Add, Subtract, multiply, divide the matrixes m1 and m2"
   ]
  },
  {
   "cell_type": "code",
   "execution_count": 57,
   "metadata": {},
   "outputs": [
    {
     "data": {
      "text/plain": [
       "array([[0.14      , 0.23529412],\n",
       "       [0.67647059, 0.18461538]])"
      ]
     },
     "execution_count": 57,
     "metadata": {},
     "output_type": "execute_result"
    }
   ],
   "source": [
    "add = m1 + m2\n",
    "subtract = m1 - m2\n",
    "divide = m1 / m2\n"
   ]
  },
  {
   "cell_type": "markdown",
   "metadata": {},
   "source": [
    "#### 17. Add the m1 with m3 by removing the first row and last column of m3"
   ]
  },
  {
   "cell_type": "code",
   "execution_count": 58,
   "metadata": {},
   "outputs": [
    {
     "data": {
      "text/plain": [
       "array([[13, 62],\n",
       "       [31, 17]])"
      ]
     },
     "execution_count": 58,
     "metadata": {},
     "output_type": "execute_result"
    }
   ],
   "source": [
    "added = m1 + m3[1:3,0:2]\n",
    "added"
   ]
  },
  {
   "cell_type": "markdown",
   "metadata": {},
   "source": [
    "#### 18. Form the matrix m4 by concatenating (as a new row) the vector [me1, me2] with the matrix m1, where me1 and me2 are the mean values of each column on m1."
   ]
  },
  {
   "cell_type": "code",
   "execution_count": null,
   "metadata": {},
   "outputs": [],
   "source": [
    "\n",
    "\n"
   ]
  },
  {
   "cell_type": "markdown",
   "metadata": {},
   "source": [
    "#### 19. Perform the matrix multiplication between m3 and m4"
   ]
  },
  {
   "cell_type": "code",
   "execution_count": null,
   "metadata": {},
   "outputs": [],
   "source": []
  },
  {
   "cell_type": "markdown",
   "metadata": {},
   "source": [
    "#### 20. Compute the maximum and minimum value of mean, variance, standard deviation for each row of matrix created in question number 8."
   ]
  },
  {
   "cell_type": "code",
   "execution_count": null,
   "metadata": {},
   "outputs": [],
   "source": [
    "\n"
   ]
  },
  {
   "cell_type": "markdown",
   "metadata": {},
   "source": [
    "#### 21. Compute the average and strike rate for each player and sort it decending way (seperately for avg and strike rate)\n",
    "<img src = 'crick1.png'>"
   ]
  },
  {
   "cell_type": "code",
   "execution_count": 75,
   "metadata": {},
   "outputs": [
    {
     "name": "stdout",
     "output_type": "stream",
     "text": [
      "[[108.         142.85714286  45.45454545  83.33333333]\n",
      " [107.36842105  25.         120.          74.41860465]\n",
      " [ 33.33333333 110.          14.28571429  91.08910891]\n",
      " [207.40740741 200.         109.09090909 135.48387097]\n",
      " [ 50.          40.          61.11111111  40.74074074]]\n",
      "[[ 94.91125541]\n",
      " [ 81.69675643]\n",
      " [ 62.17703913]\n",
      " [162.99554687]\n",
      " [ 47.96296296]]\n",
      "[['27' '3' '11' '31' '162.99554686651462']\n",
      " ['50' '42' '22' '78' '94.91125541125541']\n",
      " ['95' '8' '65' '43' '81.69675642594859']\n",
      " ['9' '100' '7' '101' '62.17703913248468']\n",
      " ['24' '20' '36' '27' '47.96296296296296']]\n"
     ]
    }
   ],
   "source": [
    "runs_scored = np.array([\n",
    "    ['MSD',54,60,10,65],\n",
    "    ['Kholi',102,2,78,32],\n",
    "    ['Rohit',3,110,1,92],\n",
    "    ['Rahul',56,6,12,42],\n",
    "    ['Dhawan',12,8,22,11]\n",
    "])\n",
    "balls_faced = np.array([\n",
    "    ['MSD',50,42,22,78],\n",
    "    ['Kholi',95,8,65,43],\n",
    "    ['Rohit',9,100,7,101],\n",
    "    ['Rahul',27,3,11,31],\n",
    "    ['Dhawan',24,20,36,27]\n",
    "])\n",
    "balls_faced\n",
    "\n",
    "balls = balls_faced[:,1:]\n",
    "runs = runs_scored[:,1:]\n",
    "ball1 = balls.astype(\"int32\")\n",
    "run1 = runs.astype(\"int32\")\n",
    "\n",
    "strike = run1/ball1 * 100\n",
    "print(strike)\n",
    "\n",
    "strike_mean = strike.mean(axis=1)\n",
    "\n",
    "strike_mean_columns = strike_mean.reshape([5,1])\n",
    "print(strike_mean_columns)\n",
    "\n",
    "player = np.concatenate([balls,strike_mean_columns],axis=1)\n",
    "ind = strike_mean.argsort() #ascend\n",
    "final = player[ind,:][::-1]\n",
    "print(final)\n",
    "    "
   ]
  },
  {
   "cell_type": "markdown",
   "metadata": {},
   "source": [
    "#### 22. The students mark was recorded in a numpy array: marks = np.array([65,84,47,56,89,98,48,77,80,39]).  Cutoff for pass is 50 marks. Write the logic to print the number of students passed and failed. "
   ]
  },
  {
   "cell_type": "code",
   "execution_count": 76,
   "metadata": {},
   "outputs": [
    {
     "name": "stdout",
     "output_type": "stream",
     "text": [
      "The number of student who failed is 3\n",
      "The number of student who passed is 7\n"
     ]
    }
   ],
   "source": [
    "marks = np.array([65,84,47,56,89,98,48,77,80,39])\n",
    "failed = 0\n",
    "passed = 0\n",
    "\n",
    "\n",
    "for n in marks:\n",
    "    if n < 50:\n",
    "        failed += 1\n",
    "    else:\n",
    "        passed += 1\n",
    "\n",
    "\n",
    "print(f'The number of student who failed is {failed}')\n",
    "print(f'The number of student who passed is {passed}')"
   ]
  },
  {
   "cell_type": "markdown",
   "metadata": {},
   "source": [
    "#### 23. The class incharge decided to give a mercy mark of 5 for those who scored between 45 and 49. Also the bonus of 5 marks awarded to the students who scored more than 80. Print all the student marks and compute the increase in the pass percentage of class. Any score more than 100 must be recorded as only 100."
   ]
  },
  {
   "cell_type": "code",
   "execution_count": 85,
   "metadata": {},
   "outputs": [
    {
     "name": "stdout",
     "output_type": "stream",
     "text": [
      "\n",
      " actual marks  [65 84 47 56 89 98 48 77 80 39]\n",
      "\n",
      " new Marks of student [ 65 100  52  56 100  98  53  77  80  39]\n",
      "20.0 %\n"
     ]
    }
   ],
   "source": [
    "new_marks = marks.copy()\n",
    "mearcy_marks=np.where((new_marks>=45)& (new_marks<=49))\n",
    "new_marks[mearcy_marks]=new_marks[mearcy_marks]+5\n",
    "bouns_marks = np.where((new_marks>80)&(new_marks<=95))\n",
    "new_marks[bouns_marks]=new_marks[bouns_marks]+5\n",
    "new_marks1=np.where(new_marks>95)\n",
    "new_marks[bouns_marks]=100\n",
    "print(\"\\n actual marks \",marks)\n",
    "print(\"\\n new Marks of student\", new_marks)\n",
    "actul_pass = (len(marks[np.where(marks>=50)])/len(marks))*100\n",
    "new_mark_out= (len(new_marks[np.where(new_marks>=50)])/len(new_marks))*100\n",
    "inc_percent = new_mark_out-actul_pass\n",
    "print(inc_percent,\"%\")"
   ]
  },
  {
   "cell_type": "markdown",
   "metadata": {},
   "source": [
    "#### 24. Print the time taken for performing the following operation using list and numpy array\n",
    "####       (x(i)^2 +8) / y(i),   where x and y are real integers from 1 to 60000"
   ]
  },
  {
   "cell_type": "code",
   "execution_count": 82,
   "metadata": {},
   "outputs": [
    {
     "name": "stdout",
     "output_type": "stream",
     "text": [
      "73.80056381225586\n",
      "0.9973049163818359\n"
     ]
    }
   ],
   "source": [
    "import time\n",
    "x = range(1,60000)\n",
    "y= range (1,60000)\n",
    "out = []\n",
    "st = time.time()\n",
    "for i , j in zip(x,y):\n",
    "    out.append((x[i-1]*x[i-1]+8)/y[i-1])\n",
    "print((time.time()-st)*1000)\n",
    "\n",
    "\n",
    "x_arr = np.arange(1,60000)\n",
    "y_arr = np.arange(1,60000)\n",
    "st_t=time.time()\n",
    "out_arr = ((x_arr*x_arr)+8)/y_arr\n",
    "print((time.time()-st_t)*1000)"
   ]
  }
 ],
 "metadata": {
  "kernelspec": {
   "display_name": "Python 3.10.6 64-bit",
   "language": "python",
   "name": "python3"
  },
  "language_info": {
   "codemirror_mode": {
    "name": "ipython",
    "version": 3
   },
   "file_extension": ".py",
   "mimetype": "text/x-python",
   "name": "python",
   "nbconvert_exporter": "python",
   "pygments_lexer": "ipython3",
   "version": "3.10.6"
  },
  "vscode": {
   "interpreter": {
    "hash": "cdea1d0b150a28221a5e6b9b58e02e51a43c65bb3bc061045816c9ca6d4fac03"
   }
  }
 },
 "nbformat": 4,
 "nbformat_minor": 4
}
