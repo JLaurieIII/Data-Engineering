{
 "cells": [],
 "metadata": {
  "kernelspec": {
   "display_name": "Python 3.10.2 64-bit",
   "language": "python",
   "name": "python3"
  },
  "language_info": {
   "codemirror_mode": {
    "name": "ipython",
    "version": 3
   },
   "file_extension": ".py",
   "mimetype": "text/x-python",
   "name": "python",
   "nbconvert_exporter": "python",
   "pygments_lexer": "ipython3",
   "version": "3.10.2"
  },
  "orig_nbformat": 4,
  "vscode": {
   "interpreter": {
    "hash": "cdea1d0b150a28221a5e6b9b58e02e51a43c65bb3bc061045816c9ca6d4fac03"
   }
  }
 },
 "nbformat": 4,
 "nbformat_minor": 2
}
